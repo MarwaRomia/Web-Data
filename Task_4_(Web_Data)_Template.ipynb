{
 "cells": [
  {
   "cell_type": "markdown",
   "metadata": {
    "id": "xY6AQ3Tl3TcY"
   },
   "source": [
    "# Task 4 (Web Data)\n",
    "\n",
    "1. Using visitor-interests.csv dataset, from the first 50 row extract Browser, OS, Device data from 'UserAgent' column and use it to create new columns for Browser, OS, Device.\n",
    "2. Using visitor-interests.csv dataset, from the first 50 row extract latitude, longitude from 'IP' column."
   ]
  },
  {
   "cell_type": "code",
   "execution_count": 1,
   "metadata": {
    "id": "uWhiotp13Tca"
   },
   "outputs": [],
   "source": [
    "import numpy as np\n",
    "import pandas as pd\n",
    "\n"
   ]
  },
  {
   "cell_type": "markdown",
   "metadata": {
    "id": "ad9iiALl3Tcb"
   },
   "source": [
    "**1) Using visitor-interests.csv dataset, extract Browser, OS, Device data from 'UserAgent' column and use it to create new columns for Browser, OS, Device.**"
   ]
  },
  {
   "cell_type": "code",
   "execution_count": 2,
   "metadata": {
    "id": "LCPsjjjF3Tcb"
   },
   "outputs": [],
   "source": [
    "df = pd.read_csv('visitor-interests.csv')"
   ]
  },
  {
   "cell_type": "code",
   "execution_count": 3,
   "metadata": {
    "id": "SdV6ZiC43Tcd"
   },
   "outputs": [
    {
     "data": {
      "text/html": [
       "<div>\n",
       "<style scoped>\n",
       "    .dataframe tbody tr th:only-of-type {\n",
       "        vertical-align: middle;\n",
       "    }\n",
       "\n",
       "    .dataframe tbody tr th {\n",
       "        vertical-align: top;\n",
       "    }\n",
       "\n",
       "    .dataframe thead th {\n",
       "        text-align: right;\n",
       "    }\n",
       "</style>\n",
       "<table border=\"1\" class=\"dataframe\">\n",
       "  <thead>\n",
       "    <tr style=\"text-align: right;\">\n",
       "      <th></th>\n",
       "      <th>IP</th>\n",
       "      <th>UserAgent</th>\n",
       "      <th>Country</th>\n",
       "      <th>Languages</th>\n",
       "      <th>Interests</th>\n",
       "    </tr>\n",
       "  </thead>\n",
       "  <tbody>\n",
       "    <tr>\n",
       "      <th>0</th>\n",
       "      <td>1.10.195.126</td>\n",
       "      <td>Mozilla/5.0 (Windows NT 6.1; Win64; x64) Apple...</td>\n",
       "      <td>TH</td>\n",
       "      <td>english</td>\n",
       "      <td>other</td>\n",
       "    </tr>\n",
       "    <tr>\n",
       "      <th>1</th>\n",
       "      <td>1.1.217.211</td>\n",
       "      <td>Mozilla/5.0 (Windows NT 10.0; Win64; x64) Appl...</td>\n",
       "      <td>TH</td>\n",
       "      <td>thai</td>\n",
       "      <td>blog/personal homepage</td>\n",
       "    </tr>\n",
       "    <tr>\n",
       "      <th>2</th>\n",
       "      <td>1.115.198.107</td>\n",
       "      <td>Mozilla/5.0 (Windows NT 6.1) AppleWebKit/537.3...</td>\n",
       "      <td>JP</td>\n",
       "      <td>english</td>\n",
       "      <td>shop/online shopping website</td>\n",
       "    </tr>\n",
       "    <tr>\n",
       "      <th>3</th>\n",
       "      <td>1.121.152.143</td>\n",
       "      <td>Mozilla/5.0 (Linux; Android 7.0; Nexus 9 Build...</td>\n",
       "      <td>AU</td>\n",
       "      <td>english</td>\n",
       "      <td>company</td>\n",
       "    </tr>\n",
       "    <tr>\n",
       "      <th>4</th>\n",
       "      <td>1.123.135.213</td>\n",
       "      <td>Mozilla/5.0 (iPad; CPU OS 9_3_5 like Mac OS X)...</td>\n",
       "      <td>AU</td>\n",
       "      <td>english</td>\n",
       "      <td>company</td>\n",
       "    </tr>\n",
       "  </tbody>\n",
       "</table>\n",
       "</div>"
      ],
      "text/plain": [
       "              IP                                          UserAgent Country  \\\n",
       "0   1.10.195.126  Mozilla/5.0 (Windows NT 6.1; Win64; x64) Apple...      TH   \n",
       "1    1.1.217.211  Mozilla/5.0 (Windows NT 10.0; Win64; x64) Appl...      TH   \n",
       "2  1.115.198.107  Mozilla/5.0 (Windows NT 6.1) AppleWebKit/537.3...      JP   \n",
       "3  1.121.152.143  Mozilla/5.0 (Linux; Android 7.0; Nexus 9 Build...      AU   \n",
       "4  1.123.135.213  Mozilla/5.0 (iPad; CPU OS 9_3_5 like Mac OS X)...      AU   \n",
       "\n",
       "  Languages                     Interests  \n",
       "0   english                         other  \n",
       "1      thai        blog/personal homepage  \n",
       "2   english  shop/online shopping website  \n",
       "3   english                       company  \n",
       "4   english                       company  "
      ]
     },
     "execution_count": 3,
     "metadata": {},
     "output_type": "execute_result"
    }
   ],
   "source": [
    "df.head()"
   ]
  },
  {
   "cell_type": "code",
   "execution_count": 4,
   "metadata": {},
   "outputs": [],
   "source": [
    "import user_agents\n"
   ]
  },
  {
   "cell_type": "code",
   "execution_count": 5,
   "metadata": {},
   "outputs": [
    {
     "data": {
      "text/plain": [
       "'Mozilla/5.0 (Windows NT 6.1; Win64; x64) AppleWebKit/537.36 (KHTML, like Gecko) Chrome/53.0.2785.116 Safari/537.36'"
      ]
     },
     "execution_count": 5,
     "metadata": {},
     "output_type": "execute_result"
    }
   ],
   "source": [
    "df.iloc[0]['UserAgent']"
   ]
  },
  {
   "cell_type": "code",
   "execution_count": 6,
   "metadata": {},
   "outputs": [],
   "source": [
    "ua=user_agents.parse('Mozilla/5.0 (Windows NT 6.1; Win64; x64) AppleWebKit/537.36 (KHTML, like Gecko) Chrome/53.0.2785.116 Safari/537.36')"
   ]
  },
  {
   "cell_type": "code",
   "execution_count": 7,
   "metadata": {},
   "outputs": [
    {
     "name": "stdout",
     "output_type": "stream",
     "text": [
      "Is a bot?  False\n",
      "Is mobile?  False\n",
      "Is PC?  True\n",
      "Is Tablet?  False\n",
      "Is Touch Capable?  False\n",
      "OS Family:  Windows\n",
      "OS Version:  (7,)\n",
      "Browser Family:  Chrome\n",
      "Browser Version:  (53, 0, 2785)\n",
      "Device Family:  Other\n",
      "Device Brand:  None\n",
      "Device Model:  None\n"
     ]
    }
   ],
   "source": [
    "\n",
    "print('Is a bot? ', ua.is_bot)\n",
    "print('Is mobile? ', ua.is_mobile)\n",
    "print('Is PC? ',ua.is_pc)\n",
    "print('Is Tablet? ',ua.is_tablet)\n",
    "print('Is Touch Capable? ',ua.is_touch_capable)\n",
    "print('OS Family: ',ua.os.family)\n",
    "print('OS Version: ',ua.os.version)\n",
    "print('Browser Family: ',ua.browser.family)\n",
    "print('Browser Version: ',ua.browser.version)\n",
    "print('Device Family: ',ua.device.family)\n",
    "print('Device Brand: ',ua.device.brand)\n",
    "print('Device Model: ',ua.device.model)"
   ]
  },
  {
   "cell_type": "code",
   "execution_count": 8,
   "metadata": {},
   "outputs": [
    {
     "data": {
      "text/html": [
       "<div>\n",
       "<style scoped>\n",
       "    .dataframe tbody tr th:only-of-type {\n",
       "        vertical-align: middle;\n",
       "    }\n",
       "\n",
       "    .dataframe tbody tr th {\n",
       "        vertical-align: top;\n",
       "    }\n",
       "\n",
       "    .dataframe thead th {\n",
       "        text-align: right;\n",
       "    }\n",
       "</style>\n",
       "<table border=\"1\" class=\"dataframe\">\n",
       "  <thead>\n",
       "    <tr style=\"text-align: right;\">\n",
       "      <th></th>\n",
       "      <th>IP</th>\n",
       "      <th>UserAgent</th>\n",
       "      <th>Country</th>\n",
       "      <th>Languages</th>\n",
       "      <th>Interests</th>\n",
       "      <th>OS</th>\n",
       "      <th>Browser</th>\n",
       "      <th>Device</th>\n",
       "    </tr>\n",
       "  </thead>\n",
       "  <tbody>\n",
       "    <tr>\n",
       "      <th>0</th>\n",
       "      <td>1.10.195.126</td>\n",
       "      <td>Mozilla/5.0 (Windows NT 6.1; Win64; x64) Apple...</td>\n",
       "      <td>TH</td>\n",
       "      <td>english</td>\n",
       "      <td>other</td>\n",
       "      <td>Windows</td>\n",
       "      <td>Chrome</td>\n",
       "      <td>Other</td>\n",
       "    </tr>\n",
       "    <tr>\n",
       "      <th>1</th>\n",
       "      <td>1.1.217.211</td>\n",
       "      <td>Mozilla/5.0 (Windows NT 10.0; Win64; x64) Appl...</td>\n",
       "      <td>TH</td>\n",
       "      <td>thai</td>\n",
       "      <td>blog/personal homepage</td>\n",
       "      <td>Windows</td>\n",
       "      <td>Chrome</td>\n",
       "      <td>Other</td>\n",
       "    </tr>\n",
       "    <tr>\n",
       "      <th>2</th>\n",
       "      <td>1.115.198.107</td>\n",
       "      <td>Mozilla/5.0 (Windows NT 6.1) AppleWebKit/537.3...</td>\n",
       "      <td>JP</td>\n",
       "      <td>english</td>\n",
       "      <td>shop/online shopping website</td>\n",
       "      <td>Windows</td>\n",
       "      <td>Chrome</td>\n",
       "      <td>Other</td>\n",
       "    </tr>\n",
       "    <tr>\n",
       "      <th>3</th>\n",
       "      <td>1.121.152.143</td>\n",
       "      <td>Mozilla/5.0 (Linux; Android 7.0; Nexus 9 Build...</td>\n",
       "      <td>AU</td>\n",
       "      <td>english</td>\n",
       "      <td>company</td>\n",
       "      <td>Android</td>\n",
       "      <td>Chrome</td>\n",
       "      <td>Nexus 9</td>\n",
       "    </tr>\n",
       "    <tr>\n",
       "      <th>4</th>\n",
       "      <td>1.123.135.213</td>\n",
       "      <td>Mozilla/5.0 (iPad; CPU OS 9_3_5 like Mac OS X)...</td>\n",
       "      <td>AU</td>\n",
       "      <td>english</td>\n",
       "      <td>company</td>\n",
       "      <td>iOS</td>\n",
       "      <td>Mobile Safari</td>\n",
       "      <td>iPad</td>\n",
       "    </tr>\n",
       "  </tbody>\n",
       "</table>\n",
       "</div>"
      ],
      "text/plain": [
       "              IP                                          UserAgent Country  \\\n",
       "0   1.10.195.126  Mozilla/5.0 (Windows NT 6.1; Win64; x64) Apple...      TH   \n",
       "1    1.1.217.211  Mozilla/5.0 (Windows NT 10.0; Win64; x64) Appl...      TH   \n",
       "2  1.115.198.107  Mozilla/5.0 (Windows NT 6.1) AppleWebKit/537.3...      JP   \n",
       "3  1.121.152.143  Mozilla/5.0 (Linux; Android 7.0; Nexus 9 Build...      AU   \n",
       "4  1.123.135.213  Mozilla/5.0 (iPad; CPU OS 9_3_5 like Mac OS X)...      AU   \n",
       "\n",
       "  Languages                     Interests       OS        Browser   Device  \n",
       "0   english                         other  Windows         Chrome    Other  \n",
       "1      thai        blog/personal homepage  Windows         Chrome    Other  \n",
       "2   english  shop/online shopping website  Windows         Chrome    Other  \n",
       "3   english                       company  Android         Chrome  Nexus 9  \n",
       "4   english                       company      iOS  Mobile Safari     iPad  "
      ]
     },
     "execution_count": 8,
     "metadata": {},
     "output_type": "execute_result"
    }
   ],
   "source": [
    "def extract_web_data(ua):\n",
    "    ua = user_agents.parse(ua)\n",
    "    return pd.Series((ua.os.family, ua.browser.family, ua.device.family))\n",
    "\n",
    "df[['OS', 'Browser', 'Device']] = df['UserAgent'].apply(extract_web_data)\n",
    "df.head()\n"
   ]
  },
  {
   "cell_type": "code",
   "execution_count": 9,
   "metadata": {},
   "outputs": [
    {
     "name": "stdout",
     "output_type": "stream",
     "text": [
      "<class 'pandas.core.frame.DataFrame'>\n",
      "RangeIndex: 19926 entries, 0 to 19925\n",
      "Data columns (total 8 columns):\n",
      " #   Column     Non-Null Count  Dtype \n",
      "---  ------     --------------  ----- \n",
      " 0   IP         19926 non-null  object\n",
      " 1   UserAgent  19926 non-null  object\n",
      " 2   Country    16721 non-null  object\n",
      " 3   Languages  19926 non-null  object\n",
      " 4   Interests  19919 non-null  object\n",
      " 5   OS         19926 non-null  object\n",
      " 6   Browser    19926 non-null  object\n",
      " 7   Device     19926 non-null  object\n",
      "dtypes: object(8)\n",
      "memory usage: 1.2+ MB\n"
     ]
    }
   ],
   "source": [
    "df.info()"
   ]
  },
  {
   "cell_type": "code",
   "execution_count": 10,
   "metadata": {},
   "outputs": [],
   "source": [
    "# another solution \n",
    "def extract_brwoser(ua):\n",
    "    ua = user_agents.parse(ua)\n",
    "    return ua.browser.family\n",
    "\n",
    "def extract_os(ua):\n",
    "    ua = user_agents.parse(ua)\n",
    "    return ua.os.family\n",
    "\n",
    "def extract_device(ua):\n",
    "    ua = user_agents.parse(ua)\n",
    "    return ua.device.family\n",
    "\n",
    "\n",
    "df['OS'] = df['UserAgent'].apply(extract_os)\n",
    "df['Browser'] = df['UserAgent'].apply(extract_brwoser)\n",
    "df['Device'] = df['UserAgent'].apply(extract_device)"
   ]
  },
  {
   "cell_type": "markdown",
   "metadata": {
    "id": "wqdr35Dd3Tcd"
   },
   "source": [
    "**2) Using visitor-interests.csv dataset, extract latitude, longitude from 'IP' column.**"
   ]
  },
  {
   "cell_type": "code",
   "execution_count": 29,
   "metadata": {},
   "outputs": [
    {
     "name": "stdout",
     "output_type": "stream",
     "text": [
      "Collecting ip2geotools\n",
      "  Using cached ip2geotools-0.1.6-py3-none-any.whl (16 kB)\n",
      "Requirement already satisfied: autopep8>=1.4.3 in c:\\users\\pc\\anaconda3\\lib\\site-packages (from ip2geotools) (1.4.4)\n",
      "Requirement already satisfied: chardet>=3.0.4 in c:\\users\\pc\\anaconda3\\lib\\site-packages (from ip2geotools) (3.0.4)\n",
      "Requirement already satisfied: cssselect>=1.0.3 in c:\\users\\pc\\anaconda3\\lib\\site-packages (from ip2geotools) (1.2.0)\n",
      "Requirement already satisfied: typing>=3.6.6 in c:\\users\\pc\\anaconda3\\lib\\site-packages (from ip2geotools) (3.7.4.3)\n",
      "Requirement already satisfied: selenium>=3.141.0 in c:\\users\\pc\\anaconda3\\lib\\site-packages (from ip2geotools) (4.4.3)\n",
      "Requirement already satisfied: typed-ast>=1.1.0 in c:\\users\\pc\\anaconda3\\lib\\site-packages (from ip2geotools) (1.5.4)\n",
      "Requirement already satisfied: requests>=2.20.1 in c:\\users\\pc\\anaconda3\\lib\\site-packages (from ip2geotools) (2.22.0)\n",
      "Requirement already satisfied: readme-renderer>=24.0 in c:\\users\\pc\\anaconda3\\lib\\site-packages (from ip2geotools) (37.3)\n",
      "Requirement already satisfied: pkginfo>=1.4.2 in c:\\users\\pc\\anaconda3\\lib\\site-packages (from ip2geotools) (1.5.0.1)\n",
      "Requirement already satisfied: lazy-object-proxy>=1.3.1 in c:\\users\\pc\\anaconda3\\lib\\site-packages (from ip2geotools) (1.4.3)\n",
      "Requirement already satisfied: pip-review>=1.0 in c:\\users\\pc\\anaconda3\\lib\\site-packages (from ip2geotools) (1.3.0)\n",
      "Requirement already satisfied: lxml>=4.2.5 in c:\\users\\pc\\anaconda3\\lib\\site-packages (from ip2geotools) (4.5.0)\n",
      "Collecting geoip2>=2.9.0\n",
      "  Downloading geoip2-4.7.0-py2.py3-none-any.whl (26 kB)\n",
      "Requirement already satisfied: urllib3>=1.24.1 in c:\\users\\pc\\anaconda3\\lib\\site-packages (from ip2geotools) (1.25.11)\n",
      "Collecting IP2Location>=8.0.3\n",
      "  Downloading IP2Location-8.10.0-py3-none-any.whl (16 kB)\n",
      "Requirement already satisfied: pycodestyle>=2.4.0 in c:\\users\\pc\\anaconda3\\lib\\site-packages (from ip2geotools) (2.5.0)\n",
      "Requirement already satisfied: dicttoxml>=1.7.4 in c:\\users\\pc\\anaconda3\\lib\\site-packages (from ip2geotools) (1.7.16)\n",
      "Requirement already satisfied: certifi>=2018.10.15 in c:\\users\\pc\\anaconda3\\lib\\site-packages (from ip2geotools) (2022.9.14)\n",
      "Requirement already satisfied: bleach>=3.0.2 in c:\\users\\pc\\anaconda3\\lib\\site-packages (from ip2geotools) (3.1.0)\n",
      "Requirement already satisfied: wrapt>=1.10.11 in c:\\users\\pc\\anaconda3\\lib\\site-packages (from ip2geotools) (1.11.2)\n",
      "Requirement already satisfied: astroid>=2.1.0 in c:\\users\\pc\\anaconda3\\lib\\site-packages (from ip2geotools) (2.3.3)\n",
      "Requirement already satisfied: Click>=7.0 in c:\\users\\pc\\anaconda3\\lib\\site-packages (from ip2geotools) (7.0)\n",
      "Requirement already satisfied: geocoder>=1.38.1 in c:\\users\\pc\\anaconda3\\lib\\site-packages (from ip2geotools) (1.38.1)\n",
      "Requirement already satisfied: idna>=2.7 in c:\\users\\pc\\anaconda3\\lib\\site-packages (from ip2geotools) (2.8)\n",
      "Requirement already satisfied: decorator>=4.3.0 in c:\\users\\pc\\anaconda3\\lib\\site-packages (from ip2geotools) (4.4.1)\n",
      "Requirement already satisfied: packaging>=18.0 in c:\\users\\pc\\anaconda3\\lib\\site-packages (from ip2geotools) (20.1)\n",
      "Requirement already satisfied: Pygments>=2.3.0 in c:\\users\\pc\\anaconda3\\lib\\site-packages (from ip2geotools) (2.5.2)\n",
      "Requirement already satisfied: pyquery>=1.4.0 in c:\\users\\pc\\anaconda3\\lib\\site-packages (from ip2geotools) (2.0.0)\n",
      "Requirement already satisfied: twine>=1.12.1 in c:\\users\\pc\\anaconda3\\lib\\site-packages (from ip2geotools) (4.0.2)\n",
      "Requirement already satisfied: tqdm>=4.28.1 in c:\\users\\pc\\anaconda3\\lib\\site-packages (from ip2geotools) (4.42.1)\n",
      "Requirement already satisfied: pyparsing>=2.3.0 in c:\\users\\pc\\anaconda3\\lib\\site-packages (from ip2geotools) (2.4.6)\n",
      "Requirement already satisfied: webencodings>=0.5.1 in c:\\users\\pc\\anaconda3\\lib\\site-packages (from ip2geotools) (0.5.1)\n",
      "Requirement already satisfied: requests-toolbelt>=0.8.0 in c:\\users\\pc\\anaconda3\\lib\\site-packages (from ip2geotools) (0.10.1)\n",
      "Requirement already satisfied: future>=0.17.1 in c:\\users\\pc\\anaconda3\\lib\\site-packages (from ip2geotools) (0.18.2)\n",
      "Requirement already satisfied: isort>=4.3.4 in c:\\users\\pc\\anaconda3\\lib\\site-packages (from ip2geotools) (4.3.21)\n",
      "Requirement already satisfied: mccabe>=0.6.1 in c:\\users\\pc\\anaconda3\\lib\\site-packages (from ip2geotools) (0.6.1)\n",
      "Collecting maxminddb>=1.4.1\n",
      "  Downloading maxminddb-2.3.0.tar.gz (322 kB)\n",
      "  Installing build dependencies: started\n",
      "  Installing build dependencies: finished with status 'done'\n",
      "  Getting requirements to build wheel: started\n",
      "  Getting requirements to build wheel: finished with status 'done'\n",
      "    Preparing wheel metadata: started\n",
      "    Preparing wheel metadata: finished with status 'done'\n",
      "Requirement already satisfied: pylint>=2.2.0 in c:\\users\\pc\\anaconda3\\lib\\site-packages (from ip2geotools) (2.4.4)\n",
      "Requirement already satisfied: six>=1.11.0 in c:\\users\\pc\\anaconda3\\lib\\site-packages (from ip2geotools) (1.14.0)\n",
      "Requirement already satisfied: ratelim>=0.1.6 in c:\\users\\pc\\anaconda3\\lib\\site-packages (from ip2geotools) (0.1.6)\n",
      "Requirement already satisfied: docutils>=0.14 in c:\\users\\pc\\anaconda3\\lib\\site-packages (from ip2geotools) (0.16)\n",
      "Requirement already satisfied: trio~=0.17 in c:\\users\\pc\\anaconda3\\lib\\site-packages (from selenium>=3.141.0->ip2geotools) (0.21.0)\n",
      "Requirement already satisfied: trio-websocket~=0.9 in c:\\users\\pc\\anaconda3\\lib\\site-packages (from selenium>=3.141.0->ip2geotools) (0.9.2)\n",
      "Requirement already satisfied: pip in c:\\users\\pc\\anaconda3\\lib\\site-packages (from pip-review>=1.0->ip2geotools) (20.0.2)\n",
      "Requirement already satisfied: aiohttp<4.0.0,>=3.6.2 in c:\\users\\pc\\anaconda3\\lib\\site-packages (from geoip2>=2.9.0->ip2geotools) (3.8.4)\n",
      "Requirement already satisfied: rich>=12.0.0 in c:\\users\\pc\\anaconda3\\lib\\site-packages (from twine>=1.12.1->ip2geotools) (13.3.3)\n",
      "Requirement already satisfied: rfc3986>=1.4.0 in c:\\users\\pc\\anaconda3\\lib\\site-packages (from twine>=1.12.1->ip2geotools) (2.0.0)\n",
      "Requirement already satisfied: importlib-metadata>=3.6 in c:\\users\\pc\\anaconda3\\lib\\site-packages (from twine>=1.12.1->ip2geotools) (6.1.0)\n",
      "Requirement already satisfied: keyring>=15.1 in c:\\users\\pc\\anaconda3\\lib\\site-packages (from twine>=1.12.1->ip2geotools) (21.1.0)\n",
      "Requirement already satisfied: colorama; sys_platform == \"win32\" in c:\\users\\pc\\anaconda3\\lib\\site-packages (from pylint>=2.2.0->ip2geotools) (0.4.3)\n",
      "Requirement already satisfied: attrs>=19.2.0 in c:\\users\\pc\\anaconda3\\lib\\site-packages (from trio~=0.17->selenium>=3.141.0->ip2geotools) (19.3.0)\n",
      "Requirement already satisfied: async-generator>=1.9 in c:\\users\\pc\\anaconda3\\lib\\site-packages (from trio~=0.17->selenium>=3.141.0->ip2geotools) (1.10)\n",
      "Requirement already satisfied: sniffio in c:\\users\\pc\\anaconda3\\lib\\site-packages (from trio~=0.17->selenium>=3.141.0->ip2geotools) (1.3.0)\n",
      "Requirement already satisfied: sortedcontainers in c:\\users\\pc\\anaconda3\\lib\\site-packages (from trio~=0.17->selenium>=3.141.0->ip2geotools) (2.1.0)\n",
      "Requirement already satisfied: outcome in c:\\users\\pc\\anaconda3\\lib\\site-packages (from trio~=0.17->selenium>=3.141.0->ip2geotools) (1.2.0)\n",
      "Requirement already satisfied: cffi>=1.14; os_name == \"nt\" and implementation_name != \"pypy\" in c:\\users\\pc\\anaconda3\\lib\\site-packages (from trio~=0.17->selenium>=3.141.0->ip2geotools) (1.14.0)\n",
      "Requirement already satisfied: wsproto>=0.14 in c:\\users\\pc\\anaconda3\\lib\\site-packages (from trio-websocket~=0.9->selenium>=3.141.0->ip2geotools) (1.2.0)\n",
      "Requirement already satisfied: multidict<7.0,>=4.5 in c:\\users\\pc\\anaconda3\\lib\\site-packages (from aiohttp<4.0.0,>=3.6.2->geoip2>=2.9.0->ip2geotools) (6.0.4)\n",
      "Requirement already satisfied: asynctest==0.13.0; python_version < \"3.8\" in c:\\users\\pc\\anaconda3\\lib\\site-packages (from aiohttp<4.0.0,>=3.6.2->geoip2>=2.9.0->ip2geotools) (0.13.0)\n",
      "Requirement already satisfied: typing-extensions>=3.7.4; python_version < \"3.8\" in c:\\users\\pc\\anaconda3\\lib\\site-packages (from aiohttp<4.0.0,>=3.6.2->geoip2>=2.9.0->ip2geotools) (4.3.0)\n",
      "Requirement already satisfied: charset-normalizer<4.0,>=2.0 in c:\\users\\pc\\anaconda3\\lib\\site-packages (from aiohttp<4.0.0,>=3.6.2->geoip2>=2.9.0->ip2geotools) (3.1.0)\n",
      "Requirement already satisfied: frozenlist>=1.1.1 in c:\\users\\pc\\anaconda3\\lib\\site-packages (from aiohttp<4.0.0,>=3.6.2->geoip2>=2.9.0->ip2geotools) (1.3.3)\n",
      "Requirement already satisfied: yarl<2.0,>=1.0 in c:\\users\\pc\\anaconda3\\lib\\site-packages (from aiohttp<4.0.0,>=3.6.2->geoip2>=2.9.0->ip2geotools) (1.8.2)\n",
      "Requirement already satisfied: async-timeout<5.0,>=4.0.0a3 in c:\\users\\pc\\anaconda3\\lib\\site-packages (from aiohttp<4.0.0,>=3.6.2->geoip2>=2.9.0->ip2geotools) (4.0.2)\n",
      "Requirement already satisfied: aiosignal>=1.1.2 in c:\\users\\pc\\anaconda3\\lib\\site-packages (from aiohttp<4.0.0,>=3.6.2->geoip2>=2.9.0->ip2geotools) (1.3.1)\n",
      "Requirement already satisfied: markdown-it-py<3.0.0,>=2.2.0 in c:\\users\\pc\\anaconda3\\lib\\site-packages (from rich>=12.0.0->twine>=1.12.1->ip2geotools) (2.2.0)\n",
      "Requirement already satisfied: zipp>=0.5 in c:\\users\\pc\\anaconda3\\lib\\site-packages (from importlib-metadata>=3.6->twine>=1.12.1->ip2geotools) (2.2.0)\n",
      "Requirement already satisfied: pywin32-ctypes!=0.1.0,!=0.1.1; sys_platform == \"win32\" in c:\\users\\pc\\anaconda3\\lib\\site-packages (from keyring>=15.1->twine>=1.12.1->ip2geotools) (0.2.0)\n",
      "Requirement already satisfied: pycparser in c:\\users\\pc\\anaconda3\\lib\\site-packages (from cffi>=1.14; os_name == \"nt\" and implementation_name != \"pypy\"->trio~=0.17->selenium>=3.141.0->ip2geotools) (2.19)\n",
      "Requirement already satisfied: h11<1,>=0.9.0 in c:\\users\\pc\\anaconda3\\lib\\site-packages (from wsproto>=0.14->trio-websocket~=0.9->selenium>=3.141.0->ip2geotools) (0.13.0)\n",
      "Requirement already satisfied: mdurl~=0.1 in c:\\users\\pc\\anaconda3\\lib\\site-packages (from markdown-it-py<3.0.0,>=2.2.0->rich>=12.0.0->twine>=1.12.1->ip2geotools) (0.1.2)\n",
      "Building wheels for collected packages: maxminddb\n",
      "  Building wheel for maxminddb (PEP 517): started\n",
      "  Building wheel for maxminddb (PEP 517): finished with status 'done'\n",
      "  Created wheel for maxminddb: filename=maxminddb-2.3.0-py2.py3-none-any.whl size=16442 sha256=a1091428d5428f546af647cf748f67ee46cbfa9a0f97e25324375637f16a214e\n",
      "  Stored in directory: c:\\users\\pc\\appdata\\local\\pip\\cache\\wheels\\3e\\62\\1c\\fe9944b886bb2249bd8965691b7f2dcb673db1da262823df9b\n",
      "Successfully built maxminddb\n",
      "Installing collected packages: maxminddb, geoip2, IP2Location, ip2geotools\n",
      "Successfully installed IP2Location-8.10.0 geoip2-4.7.0 ip2geotools-0.1.6 maxminddb-2.3.0\n"
     ]
    },
    {
     "name": "stderr",
     "output_type": "stream",
     "text": [
      "Keyring is skipped due to an exception: 'keyring.backends'\n",
      "ERROR: geoip2 4.7.0 has requirement requests<3.0.0,>=2.24.0, but you'll have requests 2.22.0 which is incompatible.\n"
     ]
    }
   ],
   "source": [
    "!pip install ip2geotools"
   ]
  },
  {
   "cell_type": "code",
   "execution_count": 11,
   "metadata": {},
   "outputs": [],
   "source": [
    "from ip2geotools.databases.noncommercial import DbIpCity as ip2geo"
   ]
  },
  {
   "cell_type": "code",
   "execution_count": 12,
   "metadata": {},
   "outputs": [
    {
     "data": {
      "text/plain": [
       "0          1.10.195.126\n",
       "1           1.1.217.211\n",
       "2         1.115.198.107\n",
       "3         1.121.152.143\n",
       "4         1.123.135.213\n",
       "              ...      \n",
       "19921        223.62.3.2\n",
       "19922     223.62.67.192\n",
       "19923     223.73.243.82\n",
       "19924      223.73.66.65\n",
       "19925    223.81.193.148\n",
       "Name: IP, Length: 19926, dtype: object"
      ]
     },
     "execution_count": 12,
     "metadata": {},
     "output_type": "execute_result"
    }
   ],
   "source": [
    "df['IP']\n"
   ]
  },
  {
   "cell_type": "code",
   "execution_count": 14,
   "metadata": {},
   "outputs": [
    {
     "data": {
      "text/plain": [
       "'Uttaradit'"
      ]
     },
     "execution_count": 14,
     "metadata": {},
     "output_type": "execute_result"
    }
   ],
   "source": [
    "ip2geo.get('1.10.195.126',api_key='free').country\n",
    "ip2geo.get('1.10.195.126',api_key='free').city\n"
   ]
  },
  {
   "cell_type": "code",
   "execution_count": 17,
   "metadata": {},
   "outputs": [],
   "source": [
    "response = ip2geo.get('1.10.195.126', api_key='free')"
   ]
  },
  {
   "cell_type": "code",
   "execution_count": 18,
   "metadata": {},
   "outputs": [
    {
     "name": "stdout",
     "output_type": "stream",
     "text": [
      "1.10.195.126\n",
      "Uttaradit\n",
      "Uttaradit\n",
      "TH\n",
      "17.6203598\n",
      "100.0972647\n"
     ]
    }
   ],
   "source": [
    "print(response.ip_address)\n",
    "print(response.city)\n",
    "print(response.region)\n",
    "print(response.country)\n",
    "print(response.latitude)\n",
    "print(response.longitude)"
   ]
  },
  {
   "cell_type": "code",
   "execution_count": null,
   "metadata": {},
   "outputs": [],
   "source": [
    "def extract_lat_lon_from_ip(ip):\n",
    "    try:\n",
    "        response = ip2geo.get(ip, api_key='free')\n",
    "        return pd.Series((response.latitude, response.longitude,response.country,response.region,\n",
    "                          response.ip_address))\n",
    "    except:\n",
    "        return np.nan\n",
    "    \n",
    "    \n",
    "df[['latitude', 'longitude','country','region','ip_address']]=df['IP'].apply(extract_lat_lon_from_ip)\n",
    "df.head()"
   ]
  },
  {
   "cell_type": "code",
   "execution_count": null,
   "metadata": {},
   "outputs": [],
   "source": []
  }
 ],
 "metadata": {
  "colab": {
   "provenance": []
  },
  "kernelspec": {
   "display_name": "Python 3",
   "language": "python",
   "name": "python3"
  },
  "language_info": {
   "codemirror_mode": {
    "name": "ipython",
    "version": 3
   },
   "file_extension": ".py",
   "mimetype": "text/x-python",
   "name": "python",
   "nbconvert_exporter": "python",
   "pygments_lexer": "ipython3",
   "version": "3.7.6"
  }
 },
 "nbformat": 4,
 "nbformat_minor": 1
}
